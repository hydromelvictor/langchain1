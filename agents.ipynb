{
 "cells": [
  {
   "cell_type": "markdown",
   "id": "b6915679",
   "metadata": {},
   "source": [
    "# LangChain: Agents\n",
    "## Outline:\n",
    "* Using built in LangChain tools: DuckDuckGo search and Wikipedia\n",
    "* Defining your own tools"
   ]
  },
  {
   "cell_type": "code",
   "execution_count": 1,
   "id": "3766d4bf",
   "metadata": {},
   "outputs": [],
   "source": [
    "import os\n",
    "\n",
    "from dotenv import load_dotenv, find_dotenv\n",
    "_ = load_dotenv(find_dotenv()) # read local .env file\n",
    "\n",
    "import warnings\n",
    "warnings.filterwarnings(\"ignore\")"
   ]
  },
  {
   "cell_type": "code",
   "execution_count": 2,
   "id": "01decd2a",
   "metadata": {},
   "outputs": [
    {
     "ename": "ValueError",
     "evalue": "'/home/hydromel/Workspace/Helper/langchain1/.lang/lib/python3.12/site-packages/langchain/agents/agent_toolkits' is not in the subpath of '/home/hydromel/Workspace/Helper/langchain1/.lang/lib/python3.12/site-packages/langchain_core'",
     "output_type": "error",
     "traceback": [
      "\u001b[31m---------------------------------------------------------------------------\u001b[39m",
      "\u001b[31mValueError\u001b[39m                                Traceback (most recent call last)",
      "\u001b[36mCell\u001b[39m\u001b[36m \u001b[39m\u001b[32mIn[2]\u001b[39m\u001b[32m, line 1\u001b[39m\n\u001b[32m----> \u001b[39m\u001b[32m1\u001b[39m \u001b[38;5;28;01mfrom\u001b[39;00m\u001b[38;5;250m \u001b[39m\u001b[34;01mlangchain\u001b[39;00m\u001b[34;01m.\u001b[39;00m\u001b[34;01magents\u001b[39;00m\u001b[34;01m.\u001b[39;00m\u001b[34;01magent_toolkits\u001b[39;00m\u001b[38;5;250m \u001b[39m\u001b[38;5;28;01mimport\u001b[39;00m create_python_agent\n\u001b[32m      2\u001b[39m \u001b[38;5;28;01mfrom\u001b[39;00m\u001b[38;5;250m \u001b[39m\u001b[34;01mlangchain\u001b[39;00m\u001b[34;01m.\u001b[39;00m\u001b[34;01magents\u001b[39;00m\u001b[38;5;250m \u001b[39m\u001b[38;5;28;01mimport\u001b[39;00m load_tools, initialize_agent\n\u001b[32m      3\u001b[39m \u001b[38;5;28;01mfrom\u001b[39;00m\u001b[38;5;250m \u001b[39m\u001b[34;01mlangchain\u001b[39;00m\u001b[34;01m.\u001b[39;00m\u001b[34;01magents\u001b[39;00m\u001b[38;5;250m \u001b[39m\u001b[38;5;28;01mimport\u001b[39;00m AgentType\n",
      "\u001b[36mFile \u001b[39m\u001b[32m<frozen importlib._bootstrap>:1412\u001b[39m, in \u001b[36m_handle_fromlist\u001b[39m\u001b[34m(module, fromlist, import_, recursive)\u001b[39m\n",
      "\u001b[36mFile \u001b[39m\u001b[32m~/Workspace/Helper/langchain1/.lang/lib/python3.12/site-packages/langchain/agents/agent_toolkits/__init__.py:121\u001b[39m, in \u001b[36m__getattr__\u001b[39m\u001b[34m(name)\u001b[39m\n\u001b[32m    119\u001b[39m \u001b[38;5;250m\u001b[39m\u001b[33;03m\"\"\"Get attr name.\"\"\"\u001b[39;00m\n\u001b[32m    120\u001b[39m \u001b[38;5;28;01mif\u001b[39;00m name \u001b[38;5;129;01min\u001b[39;00m DEPRECATED_AGENTS:\n\u001b[32m--> \u001b[39m\u001b[32m121\u001b[39m     relative_path = \u001b[43mas_import_path\u001b[49m\u001b[43m(\u001b[49m\u001b[43mPath\u001b[49m\u001b[43m(\u001b[49m\u001b[34;43m__file__\u001b[39;49m\u001b[43m)\u001b[49m\u001b[43m.\u001b[49m\u001b[43mparent\u001b[49m\u001b[43m,\u001b[49m\u001b[43m \u001b[49m\u001b[43msuffix\u001b[49m\u001b[43m=\u001b[49m\u001b[43mname\u001b[49m\u001b[43m)\u001b[49m\n\u001b[32m    122\u001b[39m     old_path = \u001b[33m\"\u001b[39m\u001b[33mlangchain.\u001b[39m\u001b[33m\"\u001b[39m + relative_path\n\u001b[32m    123\u001b[39m     new_path = \u001b[33m\"\u001b[39m\u001b[33mlangchain_experimental.\u001b[39m\u001b[33m\"\u001b[39m + relative_path\n",
      "\u001b[36mFile \u001b[39m\u001b[32m~/Workspace/Helper/langchain1/.lang/lib/python3.12/site-packages/langchain_core/_api/path.py:30\u001b[39m, in \u001b[36mas_import_path\u001b[39m\u001b[34m(file, suffix, relative_to)\u001b[39m\n\u001b[32m     28\u001b[39m \u001b[38;5;28;01mif\u001b[39;00m \u001b[38;5;28misinstance\u001b[39m(file, \u001b[38;5;28mstr\u001b[39m):\n\u001b[32m     29\u001b[39m     file = Path(file)\n\u001b[32m---> \u001b[39m\u001b[32m30\u001b[39m path = \u001b[43mget_relative_path\u001b[49m\u001b[43m(\u001b[49m\u001b[43mfile\u001b[49m\u001b[43m,\u001b[49m\u001b[43m \u001b[49m\u001b[43mrelative_to\u001b[49m\u001b[43m=\u001b[49m\u001b[43mrelative_to\u001b[49m\u001b[43m)\u001b[49m\n\u001b[32m     31\u001b[39m \u001b[38;5;28;01mif\u001b[39;00m file.is_file():\n\u001b[32m     32\u001b[39m     path = path[: -\u001b[38;5;28mlen\u001b[39m(file.suffix)]\n",
      "\u001b[36mFile \u001b[39m\u001b[32m~/Workspace/Helper/langchain1/.lang/lib/python3.12/site-packages/langchain_core/_api/path.py:18\u001b[39m, in \u001b[36mget_relative_path\u001b[39m\u001b[34m(file, relative_to)\u001b[39m\n\u001b[32m     16\u001b[39m \u001b[38;5;28;01mif\u001b[39;00m \u001b[38;5;28misinstance\u001b[39m(file, \u001b[38;5;28mstr\u001b[39m):\n\u001b[32m     17\u001b[39m     file = Path(file)\n\u001b[32m---> \u001b[39m\u001b[32m18\u001b[39m \u001b[38;5;28;01mreturn\u001b[39;00m \u001b[38;5;28mstr\u001b[39m(\u001b[43mfile\u001b[49m\u001b[43m.\u001b[49m\u001b[43mrelative_to\u001b[49m\u001b[43m(\u001b[49m\u001b[43mrelative_to\u001b[49m\u001b[43m)\u001b[49m)\n",
      "\u001b[36mFile \u001b[39m\u001b[32m/usr/lib/python3.12/pathlib.py:682\u001b[39m, in \u001b[36mPurePath.relative_to\u001b[39m\u001b[34m(self, other, walk_up, *_deprecated)\u001b[39m\n\u001b[32m    680\u001b[39m     \u001b[38;5;28;01mbreak\u001b[39;00m\n\u001b[32m    681\u001b[39m \u001b[38;5;28;01melif\u001b[39;00m \u001b[38;5;129;01mnot\u001b[39;00m walk_up:\n\u001b[32m--> \u001b[39m\u001b[32m682\u001b[39m     \u001b[38;5;28;01mraise\u001b[39;00m \u001b[38;5;167;01mValueError\u001b[39;00m(\u001b[33mf\u001b[39m\u001b[33m\"\u001b[39m\u001b[38;5;132;01m{\u001b[39;00m\u001b[38;5;28mstr\u001b[39m(\u001b[38;5;28mself\u001b[39m)\u001b[38;5;132;01m!r}\u001b[39;00m\u001b[33m is not in the subpath of \u001b[39m\u001b[38;5;132;01m{\u001b[39;00m\u001b[38;5;28mstr\u001b[39m(other)\u001b[38;5;132;01m!r}\u001b[39;00m\u001b[33m\"\u001b[39m)\n\u001b[32m    683\u001b[39m \u001b[38;5;28;01melif\u001b[39;00m path.name == \u001b[33m'\u001b[39m\u001b[33m..\u001b[39m\u001b[33m'\u001b[39m:\n\u001b[32m    684\u001b[39m     \u001b[38;5;28;01mraise\u001b[39;00m \u001b[38;5;167;01mValueError\u001b[39;00m(\u001b[33mf\u001b[39m\u001b[33m\"\u001b[39m\u001b[33m'\u001b[39m\u001b[33m..\u001b[39m\u001b[33m'\u001b[39m\u001b[33m segment in \u001b[39m\u001b[38;5;132;01m{\u001b[39;00m\u001b[38;5;28mstr\u001b[39m(other)\u001b[38;5;132;01m!r}\u001b[39;00m\u001b[33m cannot be walked\u001b[39m\u001b[33m\"\u001b[39m)\n",
      "\u001b[31mValueError\u001b[39m: '/home/hydromel/Workspace/Helper/langchain1/.lang/lib/python3.12/site-packages/langchain/agents/agent_toolkits' is not in the subpath of '/home/hydromel/Workspace/Helper/langchain1/.lang/lib/python3.12/site-packages/langchain_core'"
     ]
    }
   ],
   "source": [
    "from langchain.agents.agent_toolkits import create_python_agent\n",
    "from langchain.agents import load_tools, initialize_agent\n",
    "from langchain.agents import AgentType\n",
    "from langchain.tools.python.tool import PythonREPLTool\n",
    "from langchain.python import PythonREPL\n",
    "from langchain_groq import ChatGroq"
   ]
  }
 ],
 "metadata": {
  "kernelspec": {
   "display_name": ".lang",
   "language": "python",
   "name": "python3"
  },
  "language_info": {
   "codemirror_mode": {
    "name": "ipython",
    "version": 3
   },
   "file_extension": ".py",
   "mimetype": "text/x-python",
   "name": "python",
   "nbconvert_exporter": "python",
   "pygments_lexer": "ipython3",
   "version": "3.12.7"
  }
 },
 "nbformat": 4,
 "nbformat_minor": 5
}
